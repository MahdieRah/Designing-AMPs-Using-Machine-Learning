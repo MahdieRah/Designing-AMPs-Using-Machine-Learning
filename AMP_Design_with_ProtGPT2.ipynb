{
  "nbformat": 4,
  "nbformat_minor": 0,
  "metadata": {
    "colab": {
      "provenance": [],
      "gpuType": "T4",
      "authorship_tag": "ABX9TyNSs05STcWqoRT7iCCwZDjh",
      "include_colab_link": true
    },
    "kernelspec": {
      "name": "python3",
      "display_name": "Python 3"
    },
    "language_info": {
      "name": "python"
    },
    "accelerator": "GPU"
  },
  "cells": [
    {
      "cell_type": "markdown",
      "metadata": {
        "id": "view-in-github",
        "colab_type": "text"
      },
      "source": [
        "<a href=\"https://colab.research.google.com/github/MahdieRah/Designing-AMPs-Using-Machine-Learning/blob/main/AMP_Design_with_ProtGPT2.ipynb\" target=\"_parent\"><img src=\"https://colab.research.google.com/assets/colab-badge.svg\" alt=\"Open In Colab\"/></a>"
      ]
    },
    {
      "cell_type": "markdown",
      "source": [
        "\"\"\"\n",
        "AMP Generator Script for Google Colab\n",
        "-------------------------------------\n",
        "- Uses ProtGPT2 to generate candidate antimicrobial peptides (AMPs)\n",
        "- Filters candidates based on physicochemical constraints\n",
        "- Supports batch generation\n",
        "- Saves valid results to CSV\n",
        "- Plots basic statistics\n",
        "\n",
        "Install dependencies:\n",
        "!pip install transformers biopython matplotlib pandas\n",
        "\"\"\""
      ],
      "metadata": {
        "id": "89BwtscCmuh2"
      }
    },
    {
      "cell_type": "code",
      "source": [
        "!pip install transformers biopython"
      ],
      "metadata": {
        "colab": {
          "base_uri": "https://localhost:8080/"
        },
        "id": "l41N3d6GnpSN",
        "outputId": "9a38e1b6-2324-490d-fc02-a56c55c3a762"
      },
      "execution_count": 4,
      "outputs": [
        {
          "output_type": "stream",
          "name": "stdout",
          "text": [
            "Requirement already satisfied: transformers in /usr/local/lib/python3.11/dist-packages (4.50.3)\n",
            "Collecting biopython\n",
            "  Downloading biopython-1.85-cp311-cp311-manylinux_2_17_x86_64.manylinux2014_x86_64.whl.metadata (13 kB)\n",
            "Requirement already satisfied: filelock in /usr/local/lib/python3.11/dist-packages (from transformers) (3.18.0)\n",
            "Requirement already satisfied: huggingface-hub<1.0,>=0.26.0 in /usr/local/lib/python3.11/dist-packages (from transformers) (0.30.1)\n",
            "Requirement already satisfied: numpy>=1.17 in /usr/local/lib/python3.11/dist-packages (from transformers) (2.0.2)\n",
            "Requirement already satisfied: packaging>=20.0 in /usr/local/lib/python3.11/dist-packages (from transformers) (24.2)\n",
            "Requirement already satisfied: pyyaml>=5.1 in /usr/local/lib/python3.11/dist-packages (from transformers) (6.0.2)\n",
            "Requirement already satisfied: regex!=2019.12.17 in /usr/local/lib/python3.11/dist-packages (from transformers) (2024.11.6)\n",
            "Requirement already satisfied: requests in /usr/local/lib/python3.11/dist-packages (from transformers) (2.32.3)\n",
            "Requirement already satisfied: tokenizers<0.22,>=0.21 in /usr/local/lib/python3.11/dist-packages (from transformers) (0.21.1)\n",
            "Requirement already satisfied: safetensors>=0.4.3 in /usr/local/lib/python3.11/dist-packages (from transformers) (0.5.3)\n",
            "Requirement already satisfied: tqdm>=4.27 in /usr/local/lib/python3.11/dist-packages (from transformers) (4.67.1)\n",
            "Requirement already satisfied: fsspec>=2023.5.0 in /usr/local/lib/python3.11/dist-packages (from huggingface-hub<1.0,>=0.26.0->transformers) (2025.3.2)\n",
            "Requirement already satisfied: typing-extensions>=3.7.4.3 in /usr/local/lib/python3.11/dist-packages (from huggingface-hub<1.0,>=0.26.0->transformers) (4.13.0)\n",
            "Requirement already satisfied: charset-normalizer<4,>=2 in /usr/local/lib/python3.11/dist-packages (from requests->transformers) (3.4.1)\n",
            "Requirement already satisfied: idna<4,>=2.5 in /usr/local/lib/python3.11/dist-packages (from requests->transformers) (3.10)\n",
            "Requirement already satisfied: urllib3<3,>=1.21.1 in /usr/local/lib/python3.11/dist-packages (from requests->transformers) (2.3.0)\n",
            "Requirement already satisfied: certifi>=2017.4.17 in /usr/local/lib/python3.11/dist-packages (from requests->transformers) (2025.1.31)\n",
            "Downloading biopython-1.85-cp311-cp311-manylinux_2_17_x86_64.manylinux2014_x86_64.whl (3.3 MB)\n",
            "\u001b[2K   \u001b[90m━━━━━━━━━━━━━━━━━━━━━━━━━━━━━━━━━━━━━━━━\u001b[0m \u001b[32m3.3/3.3 MB\u001b[0m \u001b[31m53.2 MB/s\u001b[0m eta \u001b[36m0:00:00\u001b[0m\n",
            "\u001b[?25hInstalling collected packages: biopython\n",
            "Successfully installed biopython-1.85\n"
          ]
        }
      ]
    },
    {
      "cell_type": "code",
      "source": [
        "\n",
        "import torch\n",
        "import re\n",
        "import time\n",
        "import pandas as pd\n",
        "import matplotlib.pyplot as plt\n",
        "from transformers import AutoTokenizer, AutoModelForCausalLM\n",
        "from Bio.SeqUtils import ProtParam"
      ],
      "metadata": {
        "id": "ZZPAi1Xsm0Ac"
      },
      "execution_count": 5,
      "outputs": []
    },
    {
      "cell_type": "code",
      "source": [
        "class AMPGenerator:\n",
        "    def __init__(self, model_name=\"nferruz/ProtGPT2\", device=None, seed_sequences=None):\n",
        "        self.device = device or (\"cuda\" if torch.cuda.is_available() else \"cpu\")\n",
        "        print(f\"Using device: {self.device}\")\n",
        "\n",
        "        self.tokenizer = AutoTokenizer.from_pretrained(model_name)\n",
        "        self.tokenizer.pad_token = self.tokenizer.eos_token\n",
        "        self.model = AutoModelForCausalLM.from_pretrained(model_name).to(self.device)\n",
        "\n",
        "        self.seed_sequences=[\"KRK\", \"LLKK\", \"GIGKFL\", \"RWK\", \"RRWW\", \"WKWK\", \"FFRW\"]\n",
        "\n",
        "\n",
        "    def is_valid_amp(self, peptide: str) -> bool:\n",
        "        peptide = re.sub(r\"[^A-Z]\", \"\", peptide.upper())\n",
        "        if not 10 <= len(peptide) <= 40: ...\n",
        "        if net_charge < 1: ...\n",
        "        0.5 < gravy < 2.0  # instead of 0.8–1.8\n",
        "\n",
        "        basic = peptide.count('K') + peptide.count('R')\n",
        "        acidic = peptide.count('D') + peptide.count('E')\n",
        "        net_charge = basic - acidic\n",
        "        if net_charge < 2:\n",
        "            return False\n",
        "\n",
        "        try:\n",
        "            analysis = ProtParam.ProteinAnalysis(peptide)\n",
        "            gravy = analysis.gravy()\n",
        "            return (\n",
        "                0.8 < gravy < 1.8 and\n",
        "                peptide.count(\"P\") < 2 and\n",
        "                peptide.count(\"C\") < 2\n",
        "            )\n",
        "        except Exception:\n",
        "            return False\n",
        "\n",
        "    def analyze_peptide(self, peptide: str) -> dict:\n",
        "        analysis = ProtParam.ProteinAnalysis(peptide)\n",
        "        return {\n",
        "            \"Peptide\": peptide,\n",
        "            \"Length\": len(peptide),\n",
        "            \"Charge@pH7\": round(analysis.charge_at_pH(7), 1),\n",
        "            \"GRAVY\": round(analysis.gravy(), 2),\n",
        "            \"pI\": round(analysis.isoelectric_point(), 2)\n",
        "        }\n",
        "\n",
        "    def generate_peptide(self, seed: str, max_length=25) -> str:\n",
        "        input_ids = self.tokenizer.encode(seed, return_tensors=\"pt\").to(self.device)\n",
        "        attention_mask = input_ids.ne(self.tokenizer.pad_token_id)\n",
        "\n",
        "        output = self.model.generate(\n",
        "            input_ids,\n",
        "            attention_mask=attention_mask,\n",
        "            max_length=max_length,\n",
        "            do_sample=True,\n",
        "            temperature=0.85,\n",
        "            top_k=8,\n",
        "            repetition_penalty=1.4,\n",
        "            pad_token_id=self.tokenizer.eos_token_id\n",
        "        )\n",
        "\n",
        "        decoded = self.tokenizer.decode(output[0], skip_special_tokens=True)\n",
        "        return re.sub(r\"[^A-Z]\", \"\", decoded.upper())\n",
        "\n",
        "    def batch_generate(self, max_attempts=100, save_path=\"valid_peptides.csv\"):\n",
        "        print(f\"\\n🔁 Starting batch AMP generation (max {max_attempts} attempts)...\")\n",
        "        start_time = time.time()\n",
        "\n",
        "        seen = set()\n",
        "        valid_peptides = []\n",
        "\n",
        "        for attempt in range(1, max_attempts + 1):\n",
        "            seed = self.seed_sequences[attempt % len(self.seed_sequences)]\n",
        "            candidate = self.generate_peptide(seed)\n",
        "\n",
        "            if candidate in seen:\n",
        "                continue\n",
        "            seen.add(candidate)\n",
        "\n",
        "            if self.is_valid_amp(candidate):\n",
        "                print(f\"✅ [{attempt}] {candidate}\")\n",
        "                valid_peptides.append(self.analyze_peptide(candidate))\n",
        "\n",
        "        if not valid_peptides:\n",
        "            print(\"\\n⚠️ No valid peptides found.\")\n",
        "            return None\n",
        "\n",
        "        df = pd.DataFrame(valid_peptides)\n",
        "        df.to_csv(save_path, index=False)\n",
        "        elapsed = time.time() - start_time\n",
        "\n",
        "        print(f\"\\n✅ Saved {len(df)} valid peptides in {elapsed:.1f} seconds to '{save_path}'\")\n",
        "        self.plot_stats(df)\n",
        "        return df\n",
        "\n",
        "    def plot_stats(self, df):\n",
        "        plt.figure(figsize=(12, 5))\n",
        "\n",
        "        plt.subplot(1, 2, 1)\n",
        "        plt.hist(df['GRAVY'], bins=10, color='skyblue', edgecolor='black')\n",
        "        plt.title('GRAVY Score Distribution')\n",
        "        plt.xlabel('GRAVY')\n",
        "        plt.ylabel('Count')\n",
        "\n",
        "        plt.subplot(1, 2, 2)\n",
        "        plt.hist(df['Charge@pH7'], bins=10, color='salmon', edgecolor='black')\n",
        "        plt.title('Net Charge at pH 7')\n",
        "        plt.xlabel('Charge')\n",
        "        plt.ylabel('Count')\n",
        "\n",
        "        plt.tight_layout()\n",
        "        plt.show()\n",
        "\n",
        "# Example usage in Colab\n",
        "if __name__ == \"__main__\":\n",
        "    generator = AMPGenerator()\n",
        "    results = generator.batch_generate(max_attempts=200)  # adjust as needed\n"
      ],
      "metadata": {
        "colab": {
          "base_uri": "https://localhost:8080/",
          "height": 373
        },
        "id": "YttLNJGFmq_-",
        "outputId": "1c9315b7-cd25-4433-f16a-5e6ac19712d3"
      },
      "execution_count": 11,
      "outputs": [
        {
          "output_type": "stream",
          "name": "stdout",
          "text": [
            "Using device: cuda\n",
            "\n",
            "🔁 Starting batch AMP generation (max 200 attempts)...\n"
          ]
        },
        {
          "output_type": "error",
          "ename": "UnboundLocalError",
          "evalue": "cannot access local variable 'net_charge' where it is not associated with a value",
          "traceback": [
            "\u001b[0;31m---------------------------------------------------------------------------\u001b[0m",
            "\u001b[0;31mUnboundLocalError\u001b[0m                         Traceback (most recent call last)",
            "\u001b[0;32m<ipython-input-11-c9553ec82832>\u001b[0m in \u001b[0;36m<cell line: 0>\u001b[0;34m()\u001b[0m\n\u001b[1;32m    114\u001b[0m \u001b[0;32mif\u001b[0m \u001b[0m__name__\u001b[0m \u001b[0;34m==\u001b[0m \u001b[0;34m\"__main__\"\u001b[0m\u001b[0;34m:\u001b[0m\u001b[0;34m\u001b[0m\u001b[0;34m\u001b[0m\u001b[0m\n\u001b[1;32m    115\u001b[0m     \u001b[0mgenerator\u001b[0m \u001b[0;34m=\u001b[0m \u001b[0mAMPGenerator\u001b[0m\u001b[0;34m(\u001b[0m\u001b[0;34m)\u001b[0m\u001b[0;34m\u001b[0m\u001b[0;34m\u001b[0m\u001b[0m\n\u001b[0;32m--> 116\u001b[0;31m     \u001b[0mresults\u001b[0m \u001b[0;34m=\u001b[0m \u001b[0mgenerator\u001b[0m\u001b[0;34m.\u001b[0m\u001b[0mbatch_generate\u001b[0m\u001b[0;34m(\u001b[0m\u001b[0mmax_attempts\u001b[0m\u001b[0;34m=\u001b[0m\u001b[0;36m200\u001b[0m\u001b[0;34m)\u001b[0m  \u001b[0;31m# adjust as needed\u001b[0m\u001b[0;34m\u001b[0m\u001b[0;34m\u001b[0m\u001b[0m\n\u001b[0m",
            "\u001b[0;32m<ipython-input-11-c9553ec82832>\u001b[0m in \u001b[0;36mbatch_generate\u001b[0;34m(self, max_attempts, save_path)\u001b[0m\n\u001b[1;32m     77\u001b[0m             \u001b[0mseen\u001b[0m\u001b[0;34m.\u001b[0m\u001b[0madd\u001b[0m\u001b[0;34m(\u001b[0m\u001b[0mcandidate\u001b[0m\u001b[0;34m)\u001b[0m\u001b[0;34m\u001b[0m\u001b[0;34m\u001b[0m\u001b[0m\n\u001b[1;32m     78\u001b[0m \u001b[0;34m\u001b[0m\u001b[0m\n\u001b[0;32m---> 79\u001b[0;31m             \u001b[0;32mif\u001b[0m \u001b[0mself\u001b[0m\u001b[0;34m.\u001b[0m\u001b[0mis_valid_amp\u001b[0m\u001b[0;34m(\u001b[0m\u001b[0mcandidate\u001b[0m\u001b[0;34m)\u001b[0m\u001b[0;34m:\u001b[0m\u001b[0;34m\u001b[0m\u001b[0;34m\u001b[0m\u001b[0m\n\u001b[0m\u001b[1;32m     80\u001b[0m                 \u001b[0mprint\u001b[0m\u001b[0;34m(\u001b[0m\u001b[0;34mf\"✅ [{attempt}] {candidate}\"\u001b[0m\u001b[0;34m)\u001b[0m\u001b[0;34m\u001b[0m\u001b[0;34m\u001b[0m\u001b[0m\n\u001b[1;32m     81\u001b[0m                 \u001b[0mvalid_peptides\u001b[0m\u001b[0;34m.\u001b[0m\u001b[0mappend\u001b[0m\u001b[0;34m(\u001b[0m\u001b[0mself\u001b[0m\u001b[0;34m.\u001b[0m\u001b[0manalyze_peptide\u001b[0m\u001b[0;34m(\u001b[0m\u001b[0mcandidate\u001b[0m\u001b[0;34m)\u001b[0m\u001b[0;34m)\u001b[0m\u001b[0;34m\u001b[0m\u001b[0;34m\u001b[0m\u001b[0m\n",
            "\u001b[0;32m<ipython-input-11-c9553ec82832>\u001b[0m in \u001b[0;36mis_valid_amp\u001b[0;34m(self, peptide)\u001b[0m\n\u001b[1;32m     14\u001b[0m         \u001b[0mpeptide\u001b[0m \u001b[0;34m=\u001b[0m \u001b[0mre\u001b[0m\u001b[0;34m.\u001b[0m\u001b[0msub\u001b[0m\u001b[0;34m(\u001b[0m\u001b[0;34mr\"[^A-Z]\"\u001b[0m\u001b[0;34m,\u001b[0m \u001b[0;34m\"\"\u001b[0m\u001b[0;34m,\u001b[0m \u001b[0mpeptide\u001b[0m\u001b[0;34m.\u001b[0m\u001b[0mupper\u001b[0m\u001b[0;34m(\u001b[0m\u001b[0;34m)\u001b[0m\u001b[0;34m)\u001b[0m\u001b[0;34m\u001b[0m\u001b[0;34m\u001b[0m\u001b[0m\n\u001b[1;32m     15\u001b[0m         \u001b[0;32mif\u001b[0m \u001b[0;32mnot\u001b[0m \u001b[0;36m10\u001b[0m \u001b[0;34m<=\u001b[0m \u001b[0mlen\u001b[0m\u001b[0;34m(\u001b[0m\u001b[0mpeptide\u001b[0m\u001b[0;34m)\u001b[0m \u001b[0;34m<=\u001b[0m \u001b[0;36m40\u001b[0m\u001b[0;34m:\u001b[0m \u001b[0;34m...\u001b[0m\u001b[0;34m\u001b[0m\u001b[0;34m\u001b[0m\u001b[0m\n\u001b[0;32m---> 16\u001b[0;31m         \u001b[0;32mif\u001b[0m \u001b[0mnet_charge\u001b[0m \u001b[0;34m<\u001b[0m \u001b[0;36m1\u001b[0m\u001b[0;34m:\u001b[0m \u001b[0;34m...\u001b[0m\u001b[0;34m\u001b[0m\u001b[0;34m\u001b[0m\u001b[0m\n\u001b[0m\u001b[1;32m     17\u001b[0m         \u001b[0;36m0.5\u001b[0m \u001b[0;34m<\u001b[0m \u001b[0mgravy\u001b[0m \u001b[0;34m<\u001b[0m \u001b[0;36m2.0\u001b[0m  \u001b[0;31m# instead of 0.8–1.8\u001b[0m\u001b[0;34m\u001b[0m\u001b[0;34m\u001b[0m\u001b[0m\n\u001b[1;32m     18\u001b[0m \u001b[0;34m\u001b[0m\u001b[0m\n",
            "\u001b[0;31mUnboundLocalError\u001b[0m: cannot access local variable 'net_charge' where it is not associated with a value"
          ]
        }
      ]
    },
    {
      "cell_type": "code",
      "source": [
        "class AMPGenerator:\n",
        "    def __init__(self, model_name=\"nferruz/ProtGPT2\", device=None, seed_sequences=None):\n",
        "        self.device = device or (\"cuda\" if torch.cuda.is_available() else \"cpu\")\n",
        "        print(f\"Using device: {self.device}\")\n",
        "\n",
        "        self.tokenizer = AutoTokenizer.from_pretrained(model_name)\n",
        "        self.tokenizer.pad_token = self.tokenizer.eos_token\n",
        "        self.model = AutoModelForCausalLM.from_pretrained(model_name).to(self.device)\n",
        "\n",
        "        self.seed_sequences = seed_sequences or [\"KRK\", \"LLKK\", \"GIGKFL\", \"RWK\", \"RRWW\", \"WKWK\", \"FFRW\"]\n",
        "\n",
        "    def is_valid_amp(self, peptide: str) -> bool:\n",
        "        peptide = re.sub(r\"[^A-Z]\", \"\", peptide.upper())\n",
        "\n",
        "        if not 10 <= len(peptide) <= 40:\n",
        "            return False\n",
        "\n",
        "        basic = peptide.count('K') + peptide.count('R')\n",
        "        acidic = peptide.count('D') + peptide.count('E')\n",
        "        net_charge = basic - acidic\n",
        "        if net_charge < 1:\n",
        "            return False\n",
        "\n",
        "        try:\n",
        "            analysis = ProtParam.ProteinAnalysis(peptide)\n",
        "            gravy = analysis.gravy()\n",
        "            return (\n",
        "                0.5 < gravy < 2.0 and\n",
        "                peptide.count(\"P\") < 3 and\n",
        "                peptide.count(\"C\") < 3\n",
        "            )\n",
        "        except Exception:\n",
        "            return False\n",
        "\n",
        "    def analyze_peptide(self, peptide: str) -> dict:\n",
        "        analysis = ProtParam.ProteinAnalysis(peptide)\n",
        "        return {\n",
        "            \"Peptide\": peptide,\n",
        "            \"Length\": len(peptide),\n",
        "            \"Charge@pH7\": round(analysis.charge_at_pH(7), 1),\n",
        "            \"GRAVY\": round(analysis.gravy(), 2),\n",
        "            \"pI\": round(analysis.isoelectric_point(), 2)\n",
        "        }\n",
        "\n",
        "    def generate_peptide(self, seed: str, max_length=25) -> str:\n",
        "        input_ids = self.tokenizer.encode(seed, return_tensors=\"pt\").to(self.device)\n",
        "        attention_mask = input_ids.ne(self.tokenizer.pad_token_id)\n",
        "\n",
        "        output = self.model.generate(\n",
        "            input_ids,\n",
        "            attention_mask=attention_mask,\n",
        "            max_length=max_length,\n",
        "            do_sample=True,\n",
        "            temperature=1.0,\n",
        "            top_k=20,\n",
        "            repetition_penalty=1.4,\n",
        "            pad_token_id=self.tokenizer.eos_token_id\n",
        "        )\n",
        "\n",
        "        decoded = self.tokenizer.decode(output[0], skip_special_tokens=True)\n",
        "        return re.sub(r\"[^A-Z]\", \"\", decoded.upper())\n",
        "\n",
        "    def batch_generate(self, max_attempts=100, save_path=\"valid_peptides.csv\"):\n",
        "        print(f\"\\n🔁 Starting batch AMP generation (max {max_attempts} attempts)...\")\n",
        "        start_time = time.time()\n",
        "\n",
        "        seen = set()\n",
        "        valid_peptides = []\n",
        "\n",
        "        for attempt in range(1, max_attempts + 1):\n",
        "            seed = self.seed_sequences[attempt % len(self.seed_sequences)]\n",
        "            candidate = self.generate_peptide(seed)\n",
        "\n",
        "            if candidate in seen:\n",
        "                continue\n",
        "            seen.add(candidate)\n",
        "\n",
        "            if self.is_valid_amp(candidate):\n",
        "                print(f\"✅ [{attempt}] {candidate}\")\n",
        "                valid_peptides.append(self.analyze_peptide(candidate))\n",
        "\n",
        "        if not valid_peptides:\n",
        "            print(\"\\n⚠️ No valid peptides found.\")\n",
        "            return None\n",
        "\n",
        "        df = pd.DataFrame(valid_peptides)\n",
        "        df.to_csv(save_path, index=False)\n",
        "        elapsed = time.time() - start_time\n",
        "\n",
        "        print(f\"\\n✅ Saved {len(df)} valid peptides in {elapsed:.1f} seconds to '{save_path}'\")\n",
        "        self.plot_stats(df)\n",
        "        return df\n",
        "\n",
        "    def plot_stats(self, df):\n",
        "        plt.figure(figsize=(12, 5))\n",
        "\n",
        "        plt.subplot(1, 2, 1)\n",
        "        plt.hist(df['GRAVY'], bins=10, color='skyblue', edgecolor='black')\n",
        "        plt.title('GRAVY Score Distribution')\n",
        "        plt.xlabel('GRAVY')\n",
        "        plt.ylabel('Count')\n",
        "\n",
        "        plt.subplot(1, 2, 2)\n",
        "        plt.hist(df['Charge@pH7'], bins=10, color='salmon', edgecolor='black')\n",
        "        plt.title('Net Charge at pH 7')\n",
        "        plt.xlabel('Charge')\n",
        "        plt.ylabel('Count')\n",
        "\n",
        "        plt.tight_layout()\n",
        "        plt.show()\n",
        "\n",
        "\n",
        "# Example usage in Colab\n",
        "if __name__ == \"__main__\":\n",
        "    generator = AMPGenerator()\n",
        "    results = generator.batch_generate(max_attempts=1000)  # increase attempts for better yield"
      ],
      "metadata": {
        "colab": {
          "base_uri": "https://localhost:8080/",
          "height": 1000
        },
        "id": "FyN50O6TqYpy",
        "outputId": "1b50c7f6-0c64-4cc8-825a-049804aee6b2"
      },
      "execution_count": 12,
      "outputs": [
        {
          "output_type": "stream",
          "name": "stdout",
          "text": [
            "Using device: cuda\n",
            "\n",
            "🔁 Starting batch AMP generation (max 1000 attempts)...\n",
            "✅ [9] GIGKFLVDKF\n",
            "✅ [44] GIGKFLKKHKDEIISGLIVIGIVVTIVGLVI\n",
            "✅ [50] LLKKGSRLII\n",
            "✅ [51] GIGKFLGERLPTIYKYVYIPIWVFIGLVIYLFI\n",
            "✅ [65] GIGKFLGSFFAILLLFGIWILVMKYIYKWY\n",
            "✅ [170] GIGKFLSSICNS\n",
            "✅ [191] GIGKFLGGYI\n",
            "✅ [331] GIGKFLGGALGGLGALVGL\n",
            "✅ [359] GIGKFLGSFS\n",
            "✅ [370] FFRWFLPWVI\n",
            "✅ [384] FFRWFLPLLILLPLALGAF\n",
            "✅ [447] FFRWISLILLILWLIKFIFYLFKKKN\n",
            "✅ [457] GIGKFLGGLLGKGKAA\n",
            "✅ [464] GIGKFLGGLLLFFAIWLFY\n",
            "✅ [471] GIGKFLGSFFTF\n",
            "✅ [513] GIGKFLSSLLLAILLSFSMGFFAYVY\n",
            "✅ [615] FFRWSLISLILIW\n",
            "✅ [618] GIGKFLSSFIWGIISDKVGRRKVILLGLL\n",
            "✅ [650] FFRWIGWLPF\n",
            "✅ [727] FFRWGLVVLAVLVALAVWLWGTR\n",
            "✅ [884] GIGKFLSSMS\n",
            "✅ [905] GIGKFLGGIYVS\n",
            "✅ [940] GIGKFLKNYFKYRFIYFFIFLIIILLFIFENI\n",
            "✅ [965] FFRWSSFHLL\n",
            "\n",
            "✅ Saved 24 valid peptides in 209.4 seconds to 'valid_peptides.csv'\n"
          ]
        },
        {
          "output_type": "display_data",
          "data": {
            "text/plain": [
              "<Figure size 1200x500 with 2 Axes>"
            ],
            "image/png": "[encoded data removed]"
          },
          "metadata": {}
        }
      ]
    },
    {
      "cell_type": "code",
      "source": [
        "from google.colab import files\n",
        "files.download('valid_peptides.csv')\n"
      ],
      "metadata": {
        "colab": {
          "base_uri": "https://localhost:8080/",
          "height": 17
        },
        "id": "i2_1Z_F5sZzp",
        "outputId": "fd4e6f29-8cf8-4591-82ec-34f5a00e4288"
      },
      "execution_count": 13,
      "outputs": [
        {
          "output_type": "display_data",
          "data": {
            "text/plain": [
              "<IPython.core.display.Javascript object>"
            ],
            "application/javascript": [
              "\n",
              "    async function download(id, filename, size) {\n",
              "      if (!google.colab.kernel.accessAllowed) {\n",
              "        return;\n",
              "      }\n",
              "      const div = document.createElement('div');\n",
              "      const label = document.createElement('label');\n",
              "      label.textContent = `Downloading \"${filename}\": `;\n",
              "      div.appendChild(label);\n",
              "      const progress = document.createElement('progress');\n",
              "      progress.max = size;\n",
              "      div.appendChild(progress);\n",
              "      document.body.appendChild(div);\n",
              "\n",
              "      const buffers = [];\n",
              "      let downloaded = 0;\n",
              "\n",
              "      const channel = await google.colab.kernel.comms.open(id);\n",
              "      // Send a message to notify the kernel that we're ready.\n",
              "      channel.send({})\n",
              "\n",
              "      for await (const message of channel.messages) {\n",
              "        // Send a message to notify the kernel that we're ready.\n",
              "        channel.send({})\n",
              "        if (message.buffers) {\n",
              "          for (const buffer of message.buffers) {\n",
              "            buffers.push(buffer);\n",
              "            downloaded += buffer.byteLength;\n",
              "            progress.value = downloaded;\n",
              "          }\n",
              "        }\n",
              "      }\n",
              "      const blob = new Blob(buffers, {type: 'application/binary'});\n",
              "      const a = document.createElement('a');\n",
              "      a.href = window.URL.createObjectURL(blob);\n",
              "      a.download = filename;\n",
              "      div.appendChild(a);\n",
              "      a.click();\n",
              "      div.remove();\n",
              "    }\n",
              "  "
            ]
          },
          "metadata": {}
        },
        {
          "output_type": "display_data",
          "data": {
            "text/plain": [
              "<IPython.core.display.Javascript object>"
            ],
            "application/javascript": [
              "download(\"download_5885a61c-2f79-4df8-9924-88ad395d60fd\", \"valid_peptides.csv\", 895)"
            ]
          },
          "metadata": {}
        }
      ]
    }
  ]
}